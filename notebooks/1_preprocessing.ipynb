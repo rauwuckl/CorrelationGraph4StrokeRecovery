{
 "cells": [
  {
   "cell_type": "code",
   "execution_count": null,
   "id": "d18b4620-a286-4b9e-8902-414e66134c1c",
   "metadata": {},
   "outputs": [],
   "source": []
  },
  {
   "cell_type": "code",
   "execution_count": 1,
   "id": "aef83319-be6a-4a53-93d0-1e9f6215152e",
   "metadata": {},
   "outputs": [
    {
     "name": "stdout",
     "output_type": "stream",
     "text": [
      "/Users/huttercl/Documents/StrokeRecovery/CorrelationGraph4Stroke_public\n"
     ]
    }
   ],
   "source": [
    "cd .."
   ]
  },
  {
   "cell_type": "code",
   "execution_count": 2,
   "id": "f285961f-8495-44a9-a732-54735c19cfd6",
   "metadata": {},
   "outputs": [],
   "source": [
    "import pandas as pd\n",
    "import numpy as np\n",
    "import datetime as dt\n",
    "from StrokeRecovery import utils\n",
    "import seaborn as sb\n",
    "import matplotlib.pyplot as plt\n",
    "\n",
    "version = 'v1.6'\n",
    "removals = list()\n",
    "name_of_reason_col = 'ReasonForRemoval'"
   ]
  },
  {
   "cell_type": "code",
   "execution_count": null,
   "id": "70130a26-7b17-4fb2-9292-e774f0d3f58c",
   "metadata": {
    "tags": []
   },
   "outputs": [],
   "source": []
  },
  {
   "cell_type": "code",
   "execution_count": 3,
   "id": "146c047d-8025-4119-bb84-3d94dbad0491",
   "metadata": {},
   "outputs": [],
   "source": [
    "patients = pd.read_excel('data/ds1a_patients_{}.xlsx'.format(version)).set_index('uID_eth', verify_integrity=True)"
   ]
  },
  {
   "cell_type": "code",
   "execution_count": 4,
   "id": "3147ea96-e116-4596-8494-bcc0e16d2777",
   "metadata": {},
   "outputs": [],
   "source": [
    "patients1 = patients"
   ]
  },
  {
   "cell_type": "markdown",
   "id": "95c6f33b-dd9f-4231-8ebc-73420bf1668b",
   "metadata": {},
   "source": [
    "## Entry after stroke\n",
    "Remove patients that enter rehab more than 21 days after the stroke"
   ]
  },
  {
   "cell_type": "code",
   "execution_count": 5,
   "id": "0b392cac-2fd5-4f57-a7ca-3857eb6edd8e",
   "metadata": {},
   "outputs": [
    {
     "name": "stdout",
     "output_type": "stream",
     "text": [
      "69 patients removed because they entered more than 21 days after stroke\n"
     ]
    }
   ],
   "source": [
    "day_threshold = 21\n",
    "patients1['entry_N_days_after_stroke'] = patients1['EintrittDatum_SN'] - patients1['DatumErkrankung_SN'] \n",
    "\n",
    "remove_late_entry = patients1[patients1['entry_N_days_after_stroke'] > dt.timedelta(days=day_threshold)].copy()\n",
    "remove_late_entry[name_of_reason_col] = 'entry more than {} days after stroke'.format(day_threshold)\n",
    "\n",
    "removals.append(remove_late_entry)\n",
    "\n",
    "patients2 = patients1.drop(index= remove_late_entry.index)\n",
    "patients1 = None\n",
    "print('{} patients removed because they entered more than {} days after stroke'.format(len(remove_late_entry), day_threshold))\n"
   ]
  },
  {
   "cell_type": "markdown",
   "id": "be6a460b-e003-4129-a895-98bdc249bf37",
   "metadata": {},
   "source": [
    "## LIMOS"
   ]
  },
  {
   "cell_type": "code",
   "execution_count": 6,
   "id": "653dedf3-d61e-438c-9fcb-a6136eac6406",
   "metadata": {},
   "outputs": [],
   "source": [
    "patients5 = patients2.sort_index()"
   ]
  },
  {
   "cell_type": "code",
   "execution_count": 7,
   "id": "b93397fc-62c8-423b-86ed-e9098d8758c7",
   "metadata": {},
   "outputs": [],
   "source": [
    "limos_all = pd.read_excel(\"data/ds1b_limos_{}.xlsx\".format(version), index_col=[0,1])"
   ]
  },
  {
   "cell_type": "code",
   "execution_count": 8,
   "id": "0a8b64c9-fe9b-4ced-b584-5f105985224a",
   "metadata": {},
   "outputs": [],
   "source": [
    "limos_selected = limos_all.loc[patients5.index]"
   ]
  },
  {
   "cell_type": "code",
   "execution_count": 9,
   "id": "1a169503-fdda-491e-960a-32add0e61ba2",
   "metadata": {},
   "outputs": [],
   "source": [
    "contains_missing = (pd.isnull(limos_selected).sum(axis=1)>0)"
   ]
  },
  {
   "cell_type": "code",
   "execution_count": 10,
   "id": "61a4185d-2e0e-480f-a279-75cf9e5f12c6",
   "metadata": {},
   "outputs": [],
   "source": [
    "limos_measurements_with_missing_values = limos_selected[contains_missing]"
   ]
  },
  {
   "cell_type": "code",
   "execution_count": 11,
   "id": "f58222ce-893d-4cb9-b776-00b0577cd4b1",
   "metadata": {},
   "outputs": [
    {
     "name": "stdout",
     "output_type": "stream",
     "text": [
      "35 weekly limos measurements have at least one category without any value and are removed\n"
     ]
    }
   ],
   "source": [
    "print(\"{} weekly limos measurements have at least one category without any value and are removed\".format(len(limos_measurements_with_missing_values)))"
   ]
  },
  {
   "cell_type": "code",
   "execution_count": 12,
   "id": "05fd4ca9-5bc3-4d34-96e2-63626778c436",
   "metadata": {},
   "outputs": [],
   "source": [
    "limos2 = limos_selected[~contains_missing]\n",
    "limos_selected = None"
   ]
  },
  {
   "cell_type": "code",
   "execution_count": 13,
   "id": "a8a87999-82a8-4d7c-bc20-55df018cb83c",
   "metadata": {},
   "outputs": [
    {
     "name": "stdout",
     "output_type": "stream",
     "text": [
      "no patients had missing entry values\n"
     ]
    }
   ],
   "source": [
    "if 'a_ESN' in limos_measurements_with_missing_values.index.get_level_values(1):\n",
    "    ids_with_missing_entry = limos_measurements_with_missing_values.xs('a_ESN', level=1).index.values\n",
    "\n",
    "    patients_with_missing_entry = patients5.loc[ids_with_missing_entry].copy()\n",
    "\n",
    "    print(\"{} patients had a missing value in entry and are removed\".format(len(patients_with_missing_entry)))\n",
    "    patients_with_missing_entry[name_of_reason_col] = 'removed because missing LIMOS in the first (entry) measurement'\n",
    "    removals.append(patients_with_missing_entry)\n",
    "    patients6a = patients5.drop(index=patients_with_missing_entry.index)\n",
    "    limos3a = limos2.drop(index=patients_with_missing_entry.index)\n",
    "\n",
    "else:\n",
    "    print(\"no patients had missing entry values\")\n",
    "    patients6a = patients5\n",
    "    limos3a = limos2\n",
    "\n",
    "\n",
    "patients5 = None\n",
    "limos2=None\n",
    "patients_with_missing_entry = None\n"
   ]
  },
  {
   "cell_type": "code",
   "execution_count": 14,
   "id": "3ca241a0-191b-4adc-a81c-df02eca356ff",
   "metadata": {},
   "outputs": [
    {
     "name": "stdout",
     "output_type": "stream",
     "text": [
      "no patients had missing exit values\n"
     ]
    }
   ],
   "source": [
    "if 'g_ASN' in limos_measurements_with_missing_values.index.get_level_values(1):\n",
    "    ids_with_missing_exit = limos_measurements_with_missing_values.xs('g_ASN', level=1).index.values\n",
    "    patients_with_missing_exit = patients6a.loc[ids_with_missing_exit].copy()\n",
    "    \n",
    "    print(\"{} patients had a missing value in exit and are removed\".format(len(patients_with_missing_exit)))\n",
    "    \n",
    "    patients_with_missing_exit[name_of_reason_col] = 'removed because missint LIMOS in the last (exit) measurement'\n",
    "    removals.append(patients_with_missing_exit)\n",
    "    \n",
    "    patients6b = patients6a.drop(index=patients_with_missing_exit.index)\n",
    "    limos3b = limos3a.drop(index=patients_with_missing_exit.index)\n",
    "    \n",
    "else:\n",
    "    print(\"no patients had missing exit values\")\n",
    "    patients6b = patients6a\n",
    "    limos3b = limos3a\n",
    "\n",
    "patients6a = None\n",
    "limos3a = None"
   ]
  },
  {
   "cell_type": "code",
   "execution_count": 15,
   "id": "3d982579-947b-41e1-8d1a-079d37711684",
   "metadata": {},
   "outputs": [],
   "source": [
    "limos3 = limos3b\n",
    "patients6 = patients6b\n",
    "\n",
    "limos3b = None\n",
    "patients6b = None"
   ]
  },
  {
   "cell_type": "markdown",
   "id": "daaa622e-8925-4d3f-bb8c-6d5cf93f9567",
   "metadata": {},
   "source": [
    "## Fill in extra info for patients"
   ]
  },
  {
   "cell_type": "code",
   "execution_count": 16,
   "id": "1ffae4c4-3697-4deb-b14b-74efb871b72d",
   "metadata": {},
   "outputs": [],
   "source": [
    "n_measurements = limos3.reset_index().groupby('uID_eth').count()['time']\n",
    "\n",
    "patients6['n_measurements'] = n_measurements"
   ]
  },
  {
   "cell_type": "code",
   "execution_count": null,
   "id": "ca9fa09d-1c86-4587-b405-33d86ee4a05b",
   "metadata": {},
   "outputs": [],
   "source": []
  },
  {
   "cell_type": "code",
   "execution_count": 17,
   "id": "833bd04b-a5e0-477f-b4fc-e6f0113efa16",
   "metadata": {},
   "outputs": [],
   "source": [
    "duration_of_stay = patients6['AustrittDatum_SN'] - patients6['EintrittDatum_SN']\n"
   ]
  },
  {
   "cell_type": "code",
   "execution_count": 18,
   "id": "3e9525a4-760a-4cad-9861-e591066a6ce5",
   "metadata": {},
   "outputs": [],
   "source": [
    "assert np.all(duration_of_stay.dt.components.loc[:, 'hours':] == 0) # only days should be defined\n",
    "\n",
    "patients6['duration_of_stay'] = duration_of_stay.dt.days\n",
    "patients6['avg_delta_between_measurements'] = patients6['duration_of_stay'].astype(float) / (patients6['n_measurements'].astype(float)-1)"
   ]
  },
  {
   "cell_type": "code",
   "execution_count": 19,
   "id": "f16a3e58-bfcb-4bfb-81af-adadceed4fd2",
   "metadata": {},
   "outputs": [],
   "source": [
    "patients6['age'] = (patients6['EintrittDatum_SN'] - patients6['Geburtstagsdatum_SN']) / np.timedelta64(1, \"Y\")"
   ]
  },
  {
   "cell_type": "code",
   "execution_count": null,
   "id": "a2753204-f4bb-4b03-8ada-a97eab556803",
   "metadata": {},
   "outputs": [],
   "source": []
  },
  {
   "cell_type": "markdown",
   "id": "33ffb338-4cf6-41a3-81bd-c6941ce33b00",
   "metadata": {
    "tags": []
   },
   "source": [
    "# Time in between measurements"
   ]
  },
  {
   "cell_type": "code",
   "execution_count": 20,
   "id": "629b62bc-fbed-4d66-8c7e-75623c2bb64f",
   "metadata": {},
   "outputs": [
    {
     "data": {
      "text/plain": [
       "(0.0, 20.0)"
      ]
     },
     "execution_count": 20,
     "metadata": {},
     "output_type": "execute_result"
    },
    {
     "data": {
      "image/png": "[encoded data removed]",
      "text/plain": [
       "<Figure size 640x480 with 1 Axes>"
      ]
     },
     "metadata": {},
     "output_type": "display_data"
    }
   ],
   "source": [
    "sb.histplot(patients6, x='avg_delta_between_measurements', bins=100)\n",
    "plt.xlim([0,20])"
   ]
  },
  {
   "cell_type": "code",
   "execution_count": 21,
   "id": "41945ee4-ca4b-4276-930f-447fe32565b2",
   "metadata": {},
   "outputs": [],
   "source": [
    "def filter_patients(patients, min_delta, max_delta):\n",
    "    selector =  (min_delta <= patients['avg_delta_between_measurements']) & (patients['avg_delta_between_measurements'] <= max_delta)\n",
    "    \n",
    "    fraction = np.mean(selector)\n",
    "    print(\"Taking {ntake} out of {ntotal}, i.e. {fraction:.1f}% of all patients, which have measurements between every {daymin} and {daymax} days\".format(\n",
    "        ntake=np.sum(selector), ntotal=len(selector),  fraction=fraction*100, daymin=min_delta, daymax=max_delta))\n",
    "    \n",
    "    selected_patients =  patients[selector]\n",
    "    n_measurements = selected_patients['n_measurements'].value_counts()\n",
    "    print(\"The following are the number of measurements we have for these patients:\")\n",
    "    print(n_measurements)\n",
    "    return selected_patients"
   ]
  },
  {
   "cell_type": "code",
   "execution_count": null,
   "id": "1724386d-be1f-4174-9d8c-b7fdafd818e5",
   "metadata": {},
   "outputs": [],
   "source": []
  },
  {
   "cell_type": "code",
   "execution_count": 22,
   "id": "f9021ffd-604e-4aa6-a2d0-f9ed4b1cabc3",
   "metadata": {},
   "outputs": [
    {
     "name": "stdout",
     "output_type": "stream",
     "text": [
      "Taking 592 out of 776, i.e. 76.3% of all patients, which have measurements between every 5 and 10 days\n",
      "The following are the number of measurements we have for these patients:\n",
      "7    164\n",
      "4    135\n",
      "5    106\n",
      "3     85\n",
      "6     84\n",
      "2     18\n",
      "Name: n_measurements, dtype: int64\n"
     ]
    }
   ],
   "source": [
    "patients7 = filter_patients(patients6, 5, 10) # take only patients where the time between measurements is between 5 and 10 days\n",
    "removed_because_of_spacing = patients6.drop(index=patients7.index.values)\n",
    "\n",
    "patients6 = None\n",
    "\n",
    "limos4 = limos3.loc[patients7.index]\n",
    "limos3 = None\n"
   ]
  },
  {
   "cell_type": "code",
   "execution_count": 23,
   "id": "1a1137b8-71e8-4ecb-bf84-d7fde9dbf8a4",
   "metadata": {},
   "outputs": [],
   "source": [
    "removed_because_of_spacing[name_of_reason_col] = 'spacing between measurements wrong'\n",
    "removals.append(removed_because_of_spacing)"
   ]
  },
  {
   "cell_type": "markdown",
   "id": "84a48c7a-68fe-41fc-8325-228e02891610",
   "metadata": {},
   "source": [
    "# Finalizing"
   ]
  },
  {
   "cell_type": "code",
   "execution_count": 24,
   "id": "c69d0c16-401e-4ab4-a100-c72497b83354",
   "metadata": {},
   "outputs": [],
   "source": [
    "final_limos = limos4\n",
    "final_patients = patients7"
   ]
  },
  {
   "cell_type": "code",
   "execution_count": 25,
   "id": "9f15b494-c559-4267-87e1-640a1cbc8bc6",
   "metadata": {},
   "outputs": [],
   "source": [
    "assert pd.isnull(final_limos).values.sum() == 0 # i.e. no missing limos\n",
    "\n",
    "lim_index = final_limos.index.get_level_values('uID_eth').unique().values\n",
    "pat_index = final_patients.index.values\n",
    "\n",
    "assert len(lim_index) == len(pat_index)\n",
    "assert np.all( lim_index == pat_index )"
   ]
  },
  {
   "cell_type": "code",
   "execution_count": 26,
   "id": "e0c16cdd-8682-4ca5-9802-1594ee0f674a",
   "metadata": {},
   "outputs": [],
   "source": [
    "columns_to_use = [\n",
    "       'entry_N_days_after_stroke', 'age', 'Geschlecht_SN',\n",
    "       'loc_label', 'diag_label', 'n_measurements', 'duration_of_stay',\n",
    "       'avg_delta_between_measurements', 'NIHHSnachLyseThrombek_SN']"
   ]
  },
  {
   "cell_type": "code",
   "execution_count": 27,
   "id": "38905108-8464-4028-aab2-0e24f5d97bc7",
   "metadata": {},
   "outputs": [],
   "source": [
    "final_patients[columns_to_use].sort_index().to_excel('data/ds2a_patients_{}.xlsx'.format(version))\n",
    "final_limos.to_excel('data/ds2b_limos_{}.xlsx'.format(version))"
   ]
  },
  {
   "cell_type": "code",
   "execution_count": 28,
   "id": "80c5aeaf-d0c5-48aa-b676-86235cd13f88",
   "metadata": {},
   "outputs": [],
   "source": [
    "removalsDF = pd.concat(removals).sort_index()\n",
    "removalsDF.to_excel('data/ds1_removed_patients_{}.xlsx'.format(version))"
   ]
  }
 ],
 "metadata": {
  "kernelspec": {
   "display_name": "Python 3 (ipykernel)",
   "language": "python",
   "name": "python3"
  },
  "language_info": {
   "codemirror_mode": {
    "name": "ipython",
    "version": 3
   },
   "file_extension": ".py",
   "mimetype": "text/x-python",
   "name": "python",
   "nbconvert_exporter": "python",
   "pygments_lexer": "ipython3",
   "version": "3.10.9"
  }
 },
 "nbformat": 4,
 "nbformat_minor": 5
}
